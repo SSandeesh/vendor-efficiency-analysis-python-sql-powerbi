{
 "cells": [
  {
   "cell_type": "code",
   "execution_count": 2,
   "id": "8922ae5b-a686-4d70-b3da-50c805c1c0a6",
   "metadata": {},
   "outputs": [],
   "source": [
    "import pandas as pd\n",
    "import os\n",
    "from sqlalchemy import create_engine\n",
    "import time"
   ]
  },
  {
   "cell_type": "code",
   "execution_count": 4,
   "id": "5796389d-8ed0-44a0-8a94-c1a585192794",
   "metadata": {},
   "outputs": [],
   "source": [
    "engine=create_engine(\"sqlite:///inventory.db\")# database in current directory"
   ]
  },
  {
   "cell_type": "markdown",
   "id": "7ef99f1a-3ca4-480b-a3b8-5c6c2e0160fa",
   "metadata": {},
   "source": [
    "The `os.listdir(path)` function from the os module returns a `list of all files and folders` in the given directory"
   ]
  },
  {
   "cell_type": "code",
   "execution_count": 14,
   "id": "8c6321ac-8288-440c-be06-23e4c08af0ba",
   "metadata": {},
   "outputs": [
    {
     "name": "stdout",
     "output_type": "stream",
     "text": [
      "begin_inventory.csv\n",
      "end_inventory.csv\n",
      "purchases.csv\n",
      "purchase_prices.csv\n",
      "sales.csv\n",
      "vendor_invoice.csv\n"
     ]
    }
   ],
   "source": [
    "for file in os.listdir(\"datasets\"):\n",
    "    if \".csv\" in file:\n",
    "        print(file)"
   ]
  },
  {
   "cell_type": "code",
   "execution_count": 16,
   "id": "5b1f1862-9214-4bf8-9d4f-8cfab1e90c11",
   "metadata": {},
   "outputs": [
    {
     "name": "stdout",
     "output_type": "stream",
     "text": [
      "begin_inventory.csv Shape is (206529, 9)\n",
      "end_inventory.csv Shape is (224489, 9)\n",
      "purchases.csv Shape is (2372474, 16)\n",
      "purchase_prices.csv Shape is (12261, 9)\n",
      "sales.csv Shape is (12825363, 14)\n",
      "vendor_invoice.csv Shape is (5543, 10)\n"
     ]
    }
   ],
   "source": [
    "for file in os.listdir(\"datasets\"):\n",
    "    if \".csv\" in file:\n",
    "        df = pd.read_csv(\"datasets/\"+file)\n",
    "        print(f\"{file} Shape is {df.shape}\")"
   ]
  },
  {
   "cell_type": "code",
   "execution_count": 1,
   "id": "57ff75b3-e686-4442-8a68-6e5dc6e4a394",
   "metadata": {},
   "outputs": [],
   "source": [
    "def ingest_db(df,table_name,engine):\n",
    "    df.to_sql(table_name,con=engine,if_exists=\"replace\",index=False)"
   ]
  },
  {
   "cell_type": "code",
   "execution_count": 5,
   "id": "9e642667-514a-4cb7-a2a9-a845f159f759",
   "metadata": {},
   "outputs": [
    {
     "name": "stdout",
     "output_type": "stream",
     "text": [
      "Total time taken to Ingest to DB : 4.604955383141836\n"
     ]
    }
   ],
   "source": [
    "total_time=0\n",
    "for file in os.listdir(\"datasets\"):\n",
    "    start=time.time()\n",
    "    if \".csv\" in file:\n",
    "        df=pd.read_csv(\"datasets/\"+file)\n",
    "        ingest_db(df, file[:-4], engine)\n",
    "    end=time.time()\n",
    "    total_time +=(end-start)/60\n",
    "print(f\"Total time taken to Ingest to DB : {total_time}\")"
   ]
  },
  {
   "cell_type": "code",
   "execution_count": null,
   "id": "759164a2-9af9-468a-9915-5fa1446d32c8",
   "metadata": {},
   "outputs": [],
   "source": []
  }
 ],
 "metadata": {
  "kernelspec": {
   "display_name": "Python 3 (ipykernel)",
   "language": "python",
   "name": "python3"
  },
  "language_info": {
   "codemirror_mode": {
    "name": "ipython",
    "version": 3
   },
   "file_extension": ".py",
   "mimetype": "text/x-python",
   "name": "python",
   "nbconvert_exporter": "python",
   "pygments_lexer": "ipython3",
   "version": "3.12.7"
  }
 },
 "nbformat": 4,
 "nbformat_minor": 5
}
